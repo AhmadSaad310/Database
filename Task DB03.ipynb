{
 "cells": [
  {
   "cell_type": "code",
   "execution_count": 1,
   "id": "e612da74-b5b4-4f76-81be-36575823ac9a",
   "metadata": {},
   "outputs": [
    {
     "name": "stdout",
     "output_type": "stream",
     "text": [
      "connected\n"
     ]
    }
   ],
   "source": [
    "from peewee import *\n",
    "db = MySQLDatabase(\n",
    "    \"task3\",\n",
    "    user= 'root',\n",
    "    password= '123123',\n",
    "    host = 'localhost'\n",
    ")\n",
    "db.connect()\n",
    "print ('connected')"
   ]
  },
  {
   "cell_type": "code",
   "execution_count": 7,
   "id": "a10939f2-e029-4324-bd0d-87941f2d6af4",
   "metadata": {},
   "outputs": [],
   "source": [
    "import datetime\n",
    "from peewee import *\n",
    "class Post(Model):\n",
    "    id = AutoField()  \n",
    "    title = CharField()\n",
    "    content = IntegerField()\n",
    "    created_at = DateTimeField(default=datetime.datetime.now)\n",
    "    \n",
    "    class Meta:\n",
    "        database = db\n",
    "db.create_tables([Post])"
   ]
  },
  {
   "cell_type": "code",
   "execution_count": 25,
   "id": "57dc8a44-a5fd-4cbd-bc2b-ea8d70b50cee",
   "metadata": {},
   "outputs": [],
   "source": [
    "data01 = [\n",
    "{\"title\":\"Software Test Engineer III\",\"content\":\"OC\"},\n",
    "{\"title\":\"Automation Specialist I\",\"content\":\"EU\"},\n",
    "{\"title\":\"Nurse Practicioner\",\"content\":\"NA\"},\n",
    "{\"title\":\"Account Executive\",\"content\":\"SA\"},\n",
    "{\"title\":\"Editor\",\"content\":\"OC\"},\n",
    "{\"title\":\"Librarian\",\"content\":\"NA\"},\n",
    "{\"title\":\"Accounting Assistant II\",\"content\":\"AS\"},\n",
    "{\"title\":\"Paralegal\",\"content\":\"SA\"},\n",
    "{\"title\":\"Human Resources Manager\",\"content\":\"NA\"}\n",
    "         ]\n",
    "\n",
    "for x in data01:\n",
    "    Post.create(title=x['title'],content=x['content'])"
   ]
  },
  {
   "cell_type": "code",
   "execution_count": 27,
   "id": "e4075f57-764c-4e35-997f-411a486483e9",
   "metadata": {},
   "outputs": [],
   "source": [
    "import datetime\n",
    "\n",
    "class Comment(Model):\n",
    "    id = AutoField()  \n",
    "    username = CharField()\n",
    "    comment = CharField()\n",
    "    post = ForeignKeyField(Post,backref='Comments')\n",
    "    \n",
    "    class Meta:\n",
    "        database = db\n",
    "\n",
    "db.create_tables([Comment])"
   ]
  },
  {
   "cell_type": "code",
   "execution_count": 33,
   "id": "e1d3d90d-e2d5-44c2-85cb-df18e8c463ad",
   "metadata": {},
   "outputs": [
    {
     "data": {
      "text/plain": [
       "<Post: 79>"
      ]
     },
     "execution_count": 33,
     "metadata": {},
     "output_type": "execute_result"
    }
   ],
   "source": [
    "Post.create(title='history of Rome',content='historical book')"
   ]
  },
  {
   "cell_type": "code",
   "execution_count": 35,
   "id": "c7ff1772-8bf3-4d32-a3f4-65232bb1d23f",
   "metadata": {},
   "outputs": [],
   "source": [
    "import json\n",
    "d = open(r'C:\\Users\\A.saad aldeen\\Downloads\\MOCK_DATA.json')\n",
    "data = json.load(d)\n",
    "for p in data:\n",
    "    Post.create(**p)"
   ]
  },
  {
   "cell_type": "code",
   "execution_count": 37,
   "id": "4fe3dfdb-f372-4700-8ff9-096d3ac0d276",
   "metadata": {},
   "outputs": [
    {
     "data": {
      "text/plain": [
       "<Comment: 1>"
      ]
     },
     "execution_count": 37,
     "metadata": {},
     "output_type": "execute_result"
    }
   ],
   "source": [
    "Comment.create(username='ahmed',comment='25% discount' ,\n",
    "post=7)"
   ]
  },
  {
   "cell_type": "code",
   "execution_count": 39,
   "id": "73ebafa6-6fdd-47f3-8148-6a2279c7445d",
   "metadata": {},
   "outputs": [
    {
     "name": "stdout",
     "output_type": "stream",
     "text": [
      "Software Test Engineer III 0\n",
      "Automation Specialist I 0\n",
      "Nurse Practicioner 0\n",
      "Account Executive 0\n",
      "Editor 0\n",
      "Librarian 0\n",
      "Accounting Assistant II 0\n",
      "Paralegal 0\n",
      "Human Resources Manager 0\n",
      "Software Test Engineer III 0\n",
      "Automation Specialist I 0\n",
      "Nurse Practicioner 0\n",
      "Account Executive 0\n",
      "Editor 0\n",
      "Librarian 0\n",
      "Accounting Assistant II 0\n",
      "Paralegal 0\n",
      "Human Resources Manager 0\n",
      "Software Test Engineer III 0\n",
      "Automation Specialist I 0\n",
      "Nurse Practicioner 0\n",
      "Account Executive 0\n",
      "Editor 0\n",
      "Librarian 0\n",
      "Accounting Assistant II 0\n",
      "Paralegal 0\n",
      "Human Resources Manager 0\n",
      "Software Test Engineer III 0\n",
      "Automation Specialist I 0\n",
      "Nurse Practicioner 0\n",
      "Account Executive 0\n",
      "Editor 0\n",
      "Librarian 0\n",
      "Accounting Assistant II 0\n",
      "Paralegal 0\n",
      "Human Resources Manager 0\n",
      "Software Consultant 0\n",
      "Internal Auditor 0\n",
      "Clinical Specialist 0\n",
      "Physical Therapy Assistant 0\n",
      "Community Outreach Specialist 0\n",
      "Programmer Analyst I 0\n",
      "Senior Financial Analyst 0\n",
      "Senior Financial Analyst 0\n",
      "Graphic Designer 0\n",
      "Environmental Tech 0\n",
      "Research Associate 0\n",
      "Social Worker 0\n",
      "Marketing Assistant 0\n",
      "Sales Associate 0\n",
      "Programmer I 0\n",
      "Chief Design Engineer 0\n",
      "Financial Advisor 0\n",
      "Systems Administrator I 0\n",
      "Environmental Specialist 0\n",
      "Web Developer III 0\n",
      "Business Systems Development Analyst 0\n",
      "Engineer I 0\n",
      "Research Nurse 0\n",
      "Staff Scientist 0\n",
      "GIS Technical Architect 0\n",
      "Quality Control Specialist 0\n",
      "Programmer I 0\n",
      "Nuclear Power Engineer 0\n",
      "Analog Circuit Design manager 0\n",
      "Speech Pathologist 0\n",
      "Editor 0\n",
      "VP Quality Control 0\n",
      "Chief Design Engineer 0\n",
      "Senior Sales Associate 0\n",
      "Sales Representative 0\n",
      "Engineer III 0\n",
      "Software Engineer I 0\n",
      "Director of Sales 0\n",
      "Programmer Analyst IV 0\n",
      "Structural Engineer 0\n",
      "Senior Quality Engineer 0\n",
      "historical book 0\n",
      "history of Rome 0\n",
      "Software Test Engineer III 0\n",
      "Automation Specialist I 0\n",
      "Nurse Practicioner 0\n",
      "Account Executive 0\n",
      "Editor 0\n",
      "Librarian 0\n",
      "Accounting Assistant II 0\n",
      "Paralegal 0\n",
      "Human Resources Manager 0\n",
      "Software Consultant 0\n",
      "Internal Auditor 0\n",
      "Clinical Specialist 0\n",
      "Physical Therapy Assistant 0\n",
      "Community Outreach Specialist 0\n",
      "Programmer Analyst I 0\n",
      "Senior Financial Analyst 0\n",
      "Senior Financial Analyst 0\n",
      "Graphic Designer 0\n",
      "Environmental Tech 0\n",
      "Research Associate 0\n",
      "Social Worker 0\n",
      "Marketing Assistant 0\n",
      "Sales Associate 0\n",
      "Programmer I 0\n",
      "Chief Design Engineer 0\n",
      "Financial Advisor 0\n",
      "Systems Administrator I 0\n",
      "Environmental Specialist 0\n",
      "Web Developer III 0\n",
      "Business Systems Development Analyst 0\n",
      "Engineer I 0\n",
      "Research Nurse 0\n",
      "Staff Scientist 0\n",
      "GIS Technical Architect 0\n",
      "Quality Control Specialist 0\n",
      "Programmer I 0\n",
      "Nuclear Power Engineer 0\n",
      "Analog Circuit Design manager 0\n",
      "Speech Pathologist 0\n",
      "Editor 0\n",
      "VP Quality Control 0\n",
      "Chief Design Engineer 0\n",
      "Senior Sales Associate 0\n",
      "Sales Representative 0\n",
      "Engineer III 0\n",
      "Software Engineer I 0\n",
      "Director of Sales 0\n",
      "Programmer Analyst IV 0\n",
      "Structural Engineer 0\n",
      "Senior Quality Engineer 0\n"
     ]
    }
   ],
   "source": [
    "data = Post.select()\n",
    "for x in data:\n",
    "    print(x.title , x.content)"
   ]
  },
  {
   "cell_type": "code",
   "execution_count": 41,
   "id": "70529c85-815f-4844-9d8d-9ccbc3a7ac9e",
   "metadata": {},
   "outputs": [
    {
     "ename": "CommentDoesNotExist",
     "evalue": "<Model: Comment> instance matching query does not exist:\nSQL: SELECT `t1`.`id`, `t1`.`username`, `t1`.`comment`, `t1`.`post_id` FROM `comment` AS `t1` WHERE (`t1`.`id` = %s) LIMIT %s OFFSET %s\nParams: [7, 1, 0]",
     "output_type": "error",
     "traceback": [
      "\u001b[1;31m---------------------------------------------------------------------------\u001b[0m",
      "\u001b[1;31mIndexError\u001b[0m                                Traceback (most recent call last)",
      "File \u001b[1;32m~\\AppData\\Roaming\\Python\\Python312\\site-packages\\peewee.py:7285\u001b[0m, in \u001b[0;36mBaseModelSelect.get\u001b[1;34m(self, database)\u001b[0m\n\u001b[0;32m   7284\u001b[0m \u001b[38;5;28;01mtry\u001b[39;00m:\n\u001b[1;32m-> 7285\u001b[0m     \u001b[38;5;28;01mreturn\u001b[39;00m clone\u001b[38;5;241m.\u001b[39mexecute(database)[\u001b[38;5;241m0\u001b[39m]\n\u001b[0;32m   7286\u001b[0m \u001b[38;5;28;01mexcept\u001b[39;00m \u001b[38;5;167;01mIndexError\u001b[39;00m:\n",
      "File \u001b[1;32m~\\AppData\\Roaming\\Python\\Python312\\site-packages\\peewee.py:4581\u001b[0m, in \u001b[0;36mCursorWrapper.__getitem__\u001b[1;34m(self, item)\u001b[0m\n\u001b[0;32m   4580\u001b[0m     \u001b[38;5;28mself\u001b[39m\u001b[38;5;241m.\u001b[39mfill_cache(item \u001b[38;5;28;01mif\u001b[39;00m item \u001b[38;5;241m>\u001b[39m \u001b[38;5;241m0\u001b[39m \u001b[38;5;28;01melse\u001b[39;00m \u001b[38;5;241m0\u001b[39m)\n\u001b[1;32m-> 4581\u001b[0m     \u001b[38;5;28;01mreturn\u001b[39;00m \u001b[38;5;28mself\u001b[39m\u001b[38;5;241m.\u001b[39mrow_cache[item]\n\u001b[0;32m   4582\u001b[0m \u001b[38;5;28;01melse\u001b[39;00m:\n",
      "\u001b[1;31mIndexError\u001b[0m: list index out of range",
      "\nDuring handling of the above exception, another exception occurred:\n",
      "\u001b[1;31mCommentDoesNotExist\u001b[0m                       Traceback (most recent call last)",
      "Cell \u001b[1;32mIn[41], line 1\u001b[0m\n\u001b[1;32m----> 1\u001b[0m comment \u001b[38;5;241m=\u001b[39m Comment\u001b[38;5;241m.\u001b[39mget(Comment\u001b[38;5;241m.\u001b[39mid \u001b[38;5;241m==\u001b[39m \u001b[38;5;241m7\u001b[39m)\n\u001b[0;32m      2\u001b[0m comment\u001b[38;5;241m.\u001b[39musername \u001b[38;5;241m=\u001b[39m \u001b[38;5;124m'\u001b[39m\u001b[38;5;124mAhmad\u001b[39m\u001b[38;5;124m'\u001b[39m\n\u001b[0;32m      3\u001b[0m comment\u001b[38;5;241m.\u001b[39mcomment \u001b[38;5;241m=\u001b[39m \u001b[38;5;124m'\u001b[39m\u001b[38;5;124mDescount\u001b[39m\u001b[38;5;124m'\u001b[39m\n",
      "File \u001b[1;32m~\\AppData\\Roaming\\Python\\Python312\\site-packages\\peewee.py:6833\u001b[0m, in \u001b[0;36mModel.get\u001b[1;34m(cls, *query, **filters)\u001b[0m\n\u001b[0;32m   6831\u001b[0m \u001b[38;5;28;01mif\u001b[39;00m filters:\n\u001b[0;32m   6832\u001b[0m     sq \u001b[38;5;241m=\u001b[39m sq\u001b[38;5;241m.\u001b[39mfilter(\u001b[38;5;241m*\u001b[39m\u001b[38;5;241m*\u001b[39mfilters)\n\u001b[1;32m-> 6833\u001b[0m \u001b[38;5;28;01mreturn\u001b[39;00m sq\u001b[38;5;241m.\u001b[39mget()\n",
      "File \u001b[1;32m~\\AppData\\Roaming\\Python\\Python312\\site-packages\\peewee.py:7288\u001b[0m, in \u001b[0;36mBaseModelSelect.get\u001b[1;34m(self, database)\u001b[0m\n\u001b[0;32m   7286\u001b[0m \u001b[38;5;28;01mexcept\u001b[39;00m \u001b[38;5;167;01mIndexError\u001b[39;00m:\n\u001b[0;32m   7287\u001b[0m     sql, params \u001b[38;5;241m=\u001b[39m clone\u001b[38;5;241m.\u001b[39msql()\n\u001b[1;32m-> 7288\u001b[0m     \u001b[38;5;28;01mraise\u001b[39;00m \u001b[38;5;28mself\u001b[39m\u001b[38;5;241m.\u001b[39mmodel\u001b[38;5;241m.\u001b[39mDoesNotExist(\u001b[38;5;124m'\u001b[39m\u001b[38;5;132;01m%s\u001b[39;00m\u001b[38;5;124m instance matching query does \u001b[39m\u001b[38;5;124m'\u001b[39m\n\u001b[0;32m   7289\u001b[0m                                   \u001b[38;5;124m'\u001b[39m\u001b[38;5;124mnot exist:\u001b[39m\u001b[38;5;130;01m\\n\u001b[39;00m\u001b[38;5;124mSQL: \u001b[39m\u001b[38;5;132;01m%s\u001b[39;00m\u001b[38;5;130;01m\\n\u001b[39;00m\u001b[38;5;124mParams: \u001b[39m\u001b[38;5;132;01m%s\u001b[39;00m\u001b[38;5;124m'\u001b[39m \u001b[38;5;241m%\u001b[39m\n\u001b[0;32m   7290\u001b[0m                                   (clone\u001b[38;5;241m.\u001b[39mmodel, sql, params))\n",
      "\u001b[1;31mCommentDoesNotExist\u001b[0m: <Model: Comment> instance matching query does not exist:\nSQL: SELECT `t1`.`id`, `t1`.`username`, `t1`.`comment`, `t1`.`post_id` FROM `comment` AS `t1` WHERE (`t1`.`id` = %s) LIMIT %s OFFSET %s\nParams: [7, 1, 0]"
     ]
    }
   ],
   "source": [
    "comment = Comment.get(Comment.id == 7)\n",
    "comment.username = 'Ahmad'\n",
    "comment.comment = 'Descount'\n",
    "comment.save()"
   ]
  },
  {
   "cell_type": "code",
   "execution_count": 43,
   "id": "c415c71e-8f92-4783-8c20-d7ca47b6b05f",
   "metadata": {},
   "outputs": [
    {
     "ename": "CommentDoesNotExist",
     "evalue": "<Model: Comment> instance matching query does not exist:\nSQL: SELECT `t1`.`id`, `t1`.`username`, `t1`.`comment`, `t1`.`post_id` FROM `comment` AS `t1` WHERE (`t1`.`id` = %s) LIMIT %s OFFSET %s\nParams: [10, 1, 0]",
     "output_type": "error",
     "traceback": [
      "\u001b[1;31m---------------------------------------------------------------------------\u001b[0m",
      "\u001b[1;31mIndexError\u001b[0m                                Traceback (most recent call last)",
      "File \u001b[1;32m~\\AppData\\Roaming\\Python\\Python312\\site-packages\\peewee.py:7285\u001b[0m, in \u001b[0;36mBaseModelSelect.get\u001b[1;34m(self, database)\u001b[0m\n\u001b[0;32m   7284\u001b[0m \u001b[38;5;28;01mtry\u001b[39;00m:\n\u001b[1;32m-> 7285\u001b[0m     \u001b[38;5;28;01mreturn\u001b[39;00m clone\u001b[38;5;241m.\u001b[39mexecute(database)[\u001b[38;5;241m0\u001b[39m]\n\u001b[0;32m   7286\u001b[0m \u001b[38;5;28;01mexcept\u001b[39;00m \u001b[38;5;167;01mIndexError\u001b[39;00m:\n",
      "File \u001b[1;32m~\\AppData\\Roaming\\Python\\Python312\\site-packages\\peewee.py:4581\u001b[0m, in \u001b[0;36mCursorWrapper.__getitem__\u001b[1;34m(self, item)\u001b[0m\n\u001b[0;32m   4580\u001b[0m     \u001b[38;5;28mself\u001b[39m\u001b[38;5;241m.\u001b[39mfill_cache(item \u001b[38;5;28;01mif\u001b[39;00m item \u001b[38;5;241m>\u001b[39m \u001b[38;5;241m0\u001b[39m \u001b[38;5;28;01melse\u001b[39;00m \u001b[38;5;241m0\u001b[39m)\n\u001b[1;32m-> 4581\u001b[0m     \u001b[38;5;28;01mreturn\u001b[39;00m \u001b[38;5;28mself\u001b[39m\u001b[38;5;241m.\u001b[39mrow_cache[item]\n\u001b[0;32m   4582\u001b[0m \u001b[38;5;28;01melse\u001b[39;00m:\n",
      "\u001b[1;31mIndexError\u001b[0m: list index out of range",
      "\nDuring handling of the above exception, another exception occurred:\n",
      "\u001b[1;31mCommentDoesNotExist\u001b[0m                       Traceback (most recent call last)",
      "Cell \u001b[1;32mIn[43], line 1\u001b[0m\n\u001b[1;32m----> 1\u001b[0m comment \u001b[38;5;241m=\u001b[39m Comment\u001b[38;5;241m.\u001b[39mget(Comment\u001b[38;5;241m.\u001b[39mid \u001b[38;5;241m==\u001b[39m \u001b[38;5;241m10\u001b[39m)\n\u001b[0;32m      2\u001b[0m comment\u001b[38;5;241m.\u001b[39mdelete_instance()\n",
      "File \u001b[1;32m~\\AppData\\Roaming\\Python\\Python312\\site-packages\\peewee.py:6833\u001b[0m, in \u001b[0;36mModel.get\u001b[1;34m(cls, *query, **filters)\u001b[0m\n\u001b[0;32m   6831\u001b[0m \u001b[38;5;28;01mif\u001b[39;00m filters:\n\u001b[0;32m   6832\u001b[0m     sq \u001b[38;5;241m=\u001b[39m sq\u001b[38;5;241m.\u001b[39mfilter(\u001b[38;5;241m*\u001b[39m\u001b[38;5;241m*\u001b[39mfilters)\n\u001b[1;32m-> 6833\u001b[0m \u001b[38;5;28;01mreturn\u001b[39;00m sq\u001b[38;5;241m.\u001b[39mget()\n",
      "File \u001b[1;32m~\\AppData\\Roaming\\Python\\Python312\\site-packages\\peewee.py:7288\u001b[0m, in \u001b[0;36mBaseModelSelect.get\u001b[1;34m(self, database)\u001b[0m\n\u001b[0;32m   7286\u001b[0m \u001b[38;5;28;01mexcept\u001b[39;00m \u001b[38;5;167;01mIndexError\u001b[39;00m:\n\u001b[0;32m   7287\u001b[0m     sql, params \u001b[38;5;241m=\u001b[39m clone\u001b[38;5;241m.\u001b[39msql()\n\u001b[1;32m-> 7288\u001b[0m     \u001b[38;5;28;01mraise\u001b[39;00m \u001b[38;5;28mself\u001b[39m\u001b[38;5;241m.\u001b[39mmodel\u001b[38;5;241m.\u001b[39mDoesNotExist(\u001b[38;5;124m'\u001b[39m\u001b[38;5;132;01m%s\u001b[39;00m\u001b[38;5;124m instance matching query does \u001b[39m\u001b[38;5;124m'\u001b[39m\n\u001b[0;32m   7289\u001b[0m                                   \u001b[38;5;124m'\u001b[39m\u001b[38;5;124mnot exist:\u001b[39m\u001b[38;5;130;01m\\n\u001b[39;00m\u001b[38;5;124mSQL: \u001b[39m\u001b[38;5;132;01m%s\u001b[39;00m\u001b[38;5;130;01m\\n\u001b[39;00m\u001b[38;5;124mParams: \u001b[39m\u001b[38;5;132;01m%s\u001b[39;00m\u001b[38;5;124m'\u001b[39m \u001b[38;5;241m%\u001b[39m\n\u001b[0;32m   7290\u001b[0m                                   (clone\u001b[38;5;241m.\u001b[39mmodel, sql, params))\n",
      "\u001b[1;31mCommentDoesNotExist\u001b[0m: <Model: Comment> instance matching query does not exist:\nSQL: SELECT `t1`.`id`, `t1`.`username`, `t1`.`comment`, `t1`.`post_id` FROM `comment` AS `t1` WHERE (`t1`.`id` = %s) LIMIT %s OFFSET %s\nParams: [10, 1, 0]"
     ]
    }
   ],
   "source": [
    "comment = Comment.get(Comment.id == 10)\n",
    "comment.delete_instance()"
   ]
  },
  {
   "cell_type": "code",
   "execution_count": null,
   "id": "cc988522-ec4e-41e8-b107-054fd8f79a59",
   "metadata": {},
   "outputs": [],
   "source": []
  }
 ],
 "metadata": {
  "kernelspec": {
   "display_name": "Python 3 (ipykernel)",
   "language": "python",
   "name": "python3"
  },
  "language_info": {
   "codemirror_mode": {
    "name": "ipython",
    "version": 3
   },
   "file_extension": ".py",
   "mimetype": "text/x-python",
   "name": "python",
   "nbconvert_exporter": "python",
   "pygments_lexer": "ipython3",
   "version": "3.12.4"
  }
 },
 "nbformat": 4,
 "nbformat_minor": 5
}
